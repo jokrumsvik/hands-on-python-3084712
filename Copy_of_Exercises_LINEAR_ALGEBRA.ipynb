{
  "nbformat": 4,
  "nbformat_minor": 0,
  "metadata": {
    "colab": {
      "provenance": [],
      "include_colab_link": true
    },
    "kernelspec": {
      "name": "python3",
      "display_name": "Python 3"
    },
    "language_info": {
      "name": "python"
    }
  },
  "cells": [
    {
      "cell_type": "markdown",
      "metadata": {
        "id": "view-in-github",
        "colab_type": "text"
      },
      "source": [
        "<a href=\"https://colab.research.google.com/github/jokrumsvik/hands-on-python-3084712/blob/main/Copy_of_Exercises_LINEAR_ALGEBRA.ipynb\" target=\"_parent\"><img src=\"https://colab.research.google.com/assets/colab-badge.svg\" alt=\"Open In Colab\"/></a>"
      ]
    },
    {
      "cell_type": "code",
      "execution_count": 1,
      "metadata": {
        "id": "Na-Va7R1elsd"
      },
      "outputs": [],
      "source": [
        "import numpy as np\n",
        "import matplotlib.pyplot as plt"
      ]
    },
    {
      "cell_type": "code",
      "source": [],
      "metadata": {
        "id": "JdBVI0FzgdfV"
      },
      "execution_count": null,
      "outputs": []
    },
    {
      "cell_type": "code",
      "source": [
        "# Problem 1: Create Three Different Arrays with Integer Values\n",
        "\n",
        "\n",
        "# Create array1 with integer values 1, 2, 3\n",
        "array1 = np.array([1, 2, 3])\n",
        "\n",
        "# Create array2 with integer values 4, 5, 6\n",
        "array2 = np.array([4,5,6])\n",
        "\n",
        "# Create array3 with integer values 7, 8, 9\n",
        "array3 = np.array([7,8,9])"
      ],
      "metadata": {
        "id": "4e_6oe44gda6"
      },
      "execution_count": 5,
      "outputs": []
    },
    {
      "cell_type": "code",
      "source": [
        "array3"
      ],
      "metadata": {
        "id": "hxxD_fKcgdYd",
        "outputId": "d0fd3ca3-ef0d-4315-8cef-9f98da3b18ee",
        "colab": {
          "base_uri": "https://localhost:8080/"
        }
      },
      "execution_count": 6,
      "outputs": [
        {
          "output_type": "execute_result",
          "data": {
            "text/plain": [
              "array([7, 8, 9])"
            ]
          },
          "metadata": {},
          "execution_count": 6
        }
      ]
    },
    {
      "cell_type": "code",
      "source": [
        "# Problem 2: Create Two Different Matrices\n",
        "\n",
        "\n",
        "# Create matrix1\n",
        "matrix1 = np.array([[1, 2], [3,4]])\n",
        "\n",
        "# Create matrix2\n",
        "matrix2 = np.array([[5, 6], [7,8]])\n",
        "\n",
        "matrix2"
      ],
      "metadata": {
        "id": "REHVREIdgdV4",
        "colab": {
          "base_uri": "https://localhost:8080/"
        },
        "outputId": "b386243a-83ba-4742-c41c-b565e71aecb9"
      },
      "execution_count": 10,
      "outputs": [
        {
          "output_type": "execute_result",
          "data": {
            "text/plain": [
              "array([[5, 6],\n",
              "       [7, 8]])"
            ]
          },
          "metadata": {},
          "execution_count": 10
        }
      ]
    },
    {
      "cell_type": "code",
      "source": [],
      "metadata": {
        "id": "y4258FrtgdQf"
      },
      "execution_count": null,
      "outputs": []
    },
    {
      "cell_type": "code",
      "source": [
        "# Problem 3: Add Matrices\n",
        "\n",
        "\n",
        "result_addition =matrix1 + matrix2\n",
        "result_addition"
      ],
      "metadata": {
        "id": "vkbo3lItgdNn",
        "colab": {
          "base_uri": "https://localhost:8080/"
        },
        "outputId": "c28ece59-7101-4b76-a986-0f0ac760a44f"
      },
      "execution_count": 15,
      "outputs": [
        {
          "output_type": "execute_result",
          "data": {
            "text/plain": [
              "array([[ 6,  8],\n",
              "       [10, 12]])"
            ]
          },
          "metadata": {},
          "execution_count": 15
        }
      ]
    },
    {
      "cell_type": "code",
      "source": [],
      "metadata": {
        "id": "Pvy0xPt9gjLB"
      },
      "execution_count": null,
      "outputs": []
    },
    {
      "cell_type": "code",
      "source": [
        "# Problem 4: Add and Subtract Vectors with Integer Values\n",
        "\n",
        "# Create vector1 with integer values\n",
        "vector1 = np.array([1, 2, 3])\n",
        "\n",
        "# Create vector2 with integer values\n",
        "vector2 = np.array([4, 5, 6])\n",
        "\n",
        "# Perform vector addition\n",
        "result_addition =vector1 + vector2\n",
        "result_addition\n",
        "\n",
        "# Perform vector subtraction\n",
        "result_subtraction= vector1 - vector2\n",
        "result_subtraction"
      ],
      "metadata": {
        "id": "YxvemhU1gjHy",
        "colab": {
          "base_uri": "https://localhost:8080/"
        },
        "outputId": "6a6042dd-56fc-49ff-f3b5-0afcb4cf2164"
      },
      "execution_count": 21,
      "outputs": [
        {
          "output_type": "execute_result",
          "data": {
            "text/plain": [
              "array([-3, -3, -3])"
            ]
          },
          "metadata": {},
          "execution_count": 21
        }
      ]
    },
    {
      "cell_type": "code",
      "source": [],
      "metadata": {
        "id": "qmL08AVcgjEf"
      },
      "execution_count": null,
      "outputs": []
    },
    {
      "cell_type": "code",
      "source": [
        "# Problem 5: Multiply Array by Scalar\n",
        "\n",
        "# Scalar value\n",
        "scalar = 5\n",
        "\n",
        "# Array\n",
        "\n",
        "array_to_multiply = array1\n",
        "\n",
        "# Multiply the array by the scalar\n",
        "\n",
        "result_scalar_multiplication = scalar*array1\n",
        "result_scalar_multiplication"
      ],
      "metadata": {
        "colab": {
          "base_uri": "https://localhost:8080/"
        },
        "id": "_jV4ae8bgjCE",
        "outputId": "7770a1dd-c40e-45a7-c5f7-44700854405f"
      },
      "execution_count": 22,
      "outputs": [
        {
          "output_type": "execute_result",
          "data": {
            "text/plain": [
              "array([ 5, 10, 15])"
            ]
          },
          "metadata": {},
          "execution_count": 22
        }
      ]
    },
    {
      "cell_type": "code",
      "source": [],
      "metadata": {
        "id": "DW0SENGWgi_n"
      },
      "execution_count": null,
      "outputs": []
    },
    {
      "cell_type": "code",
      "source": [
        "# Problem 6: Multiply Matrix by Scalar\n",
        "\n",
        "# Create a 2x2 matrix with integer values\n",
        "matrix = np.array([[5,6],[7,8]])\n",
        "\n",
        "# Scalar value for multiplication\n",
        "scalar = 41\n",
        "\n",
        "# Multiply the matrix by the scalar\n",
        "result_scalar_multiplication = matrix*scalar\n",
        "result_scalar_multiplication"
      ],
      "metadata": {
        "id": "T3QrIgJ4gi9B",
        "colab": {
          "base_uri": "https://localhost:8080/"
        },
        "outputId": "ed0a811d-7e5a-4c0f-a7d0-036e00f94f18"
      },
      "execution_count": 25,
      "outputs": [
        {
          "output_type": "execute_result",
          "data": {
            "text/plain": [
              "array([[205, 246],\n",
              "       [287, 328]])"
            ]
          },
          "metadata": {},
          "execution_count": 25
        }
      ]
    },
    {
      "cell_type": "code",
      "source": [],
      "metadata": {
        "id": "XpagDy6cg9Wg"
      },
      "execution_count": null,
      "outputs": []
    },
    {
      "cell_type": "code",
      "source": [],
      "metadata": {
        "id": "01f2Ve9Kg9S7"
      },
      "execution_count": null,
      "outputs": []
    },
    {
      "cell_type": "code",
      "source": [],
      "metadata": {
        "id": "2f1JtexTg9QQ"
      },
      "execution_count": null,
      "outputs": []
    },
    {
      "cell_type": "code",
      "source": [
        "# Problem 7: Find Determinant of  Matrix 2\n",
        "\n",
        "# Create matrix1\n",
        "matrix1 = np.array([[1, 2], [3, 4]])\n",
        "\n",
        "# Calculate the determinant\n",
        "determinant_matrix1 = np.linalg.det(matrix1)\n",
        "\n",
        "\n",
        "\n",
        "matrix2 =\n",
        "\n",
        "determinant_matrix2 ="
      ],
      "metadata": {
        "id": "UgDcLALjg9Ni"
      },
      "execution_count": null,
      "outputs": []
    },
    {
      "cell_type": "code",
      "source": [],
      "metadata": {
        "id": "tm98MYKDh3Xc"
      },
      "execution_count": null,
      "outputs": []
    },
    {
      "cell_type": "code",
      "source": [],
      "metadata": {
        "id": "8qwcKHwTh3Sv"
      },
      "execution_count": null,
      "outputs": []
    },
    {
      "cell_type": "code",
      "source": [
        "# Problem 8: Find Rank of 3x3 Matrix\n",
        "\n",
        "# Create matrix3\n",
        "matrix3 = np.array([[1, 2, 3], [4, 5, 6], [7, 8, 9]])\n",
        "\n",
        "# Calculate the rank\n",
        "rank_matrix3 = np.linalg.matrix_rank(matrix3)\n",
        "matrix3\n",
        "rank_matrix3"
      ],
      "metadata": {
        "id": "uxmIntVUh3QX",
        "colab": {
          "base_uri": "https://localhost:8080/"
        },
        "outputId": "8228287a-06bc-4dcf-e9a1-51bd244fae37"
      },
      "execution_count": 28,
      "outputs": [
        {
          "output_type": "execute_result",
          "data": {
            "text/plain": [
              "2"
            ]
          },
          "metadata": {},
          "execution_count": 28
        }
      ]
    },
    {
      "cell_type": "code",
      "source": [
        "# Create matrix3\n",
        "matrix3 = np.array([[690], [50], [91], [42]])\n",
        "\n",
        "# Calculate the rank\n",
        "rank_matrix3 = np.linalg.matrix_rank(matrix3)\n",
        "rank_matrix3"
      ],
      "metadata": {
        "id": "ut7wNaNoiwe1",
        "colab": {
          "base_uri": "https://localhost:8080/"
        },
        "outputId": "87b416ca-8026-4963-cd6d-59984713b203"
      },
      "execution_count": 35,
      "outputs": [
        {
          "output_type": "execute_result",
          "data": {
            "text/plain": [
              "1"
            ]
          },
          "metadata": {},
          "execution_count": 35
        }
      ]
    },
    {
      "cell_type": "code",
      "source": [],
      "metadata": {
        "id": "gJu2XFOqiwb_"
      },
      "execution_count": null,
      "outputs": []
    },
    {
      "cell_type": "code",
      "source": [],
      "metadata": {
        "id": "WGoe2FVjh3N8"
      },
      "execution_count": null,
      "outputs": []
    },
    {
      "cell_type": "code",
      "source": [],
      "metadata": {
        "id": "w3rPArga9ATq"
      },
      "execution_count": null,
      "outputs": []
    },
    {
      "cell_type": "code",
      "source": [
        "#Example\n",
        "A = np.array([\n",
        "        [2, -1, 1, 1],\n",
        "        [1, 2, -1, -1],\n",
        "        [-1, 2, 2, 2],\n",
        "        [1, -1, 2, 1]\n",
        "    ])\n",
        "b = np.array([6, 3, 14, 8])"
      ],
      "metadata": {
        "id": "mbxT8MfB9ARo",
        "colab": {
          "base_uri": "https://localhost:8080/"
        },
        "outputId": "a23447b5-158e-4590-cbcd-b0d2dbcccb64"
      },
      "execution_count": 37,
      "outputs": [
        {
          "output_type": "execute_result",
          "data": {
            "text/plain": [
              "<function numpy.array>"
            ]
          },
          "metadata": {},
          "execution_count": 37
        }
      ]
    },
    {
      "cell_type": "code",
      "source": [
        "\n",
        "\n",
        "# solution of the system of linear equations with the corresponding coefficients matrix A and free coefficients b\n",
        "x = np.linalg.solve(A,b)\n",
        "\n",
        "#find the rank of A\n",
        "rank_a = np.linalg.matrix_rank(A)"
      ],
      "metadata": {
        "id": "dVfZErQK9AO7"
      },
      "execution_count": 38,
      "outputs": []
    },
    {
      "cell_type": "code",
      "source": [
        "rank_a"
      ],
      "metadata": {
        "id": "tVMVq0Osh3Lm",
        "colab": {
          "base_uri": "https://localhost:8080/"
        },
        "outputId": "b63df1aa-d245-404d-be08-65909cf56cc1"
      },
      "execution_count": 39,
      "outputs": [
        {
          "output_type": "execute_result",
          "data": {
            "text/plain": [
              "4"
            ]
          },
          "metadata": {},
          "execution_count": 39
        }
      ]
    },
    {
      "cell_type": "code",
      "source": [
        "# Problem 9: Create the matrix and solution vector for the linear system below. Find the determinant of M, the solution and the linear system and the rank\n",
        "\n",
        "\n",
        "#4x + 3y + 2z = 25\n",
        "#-2x + 2y + 3z = -10\n",
        "#3x -5y + 2z = -4\n",
        "\n",
        "MinMatrix =   np.array([[4, 3, 2], [-2, 2, 3], [3, -5, 2]])\n",
        "rank_MinMatrix = np.linalg.matrix_rank(MinMatrix)\n",
        "rank_MinMatrix\n",
        "\n",
        "\n",
        "\n"
      ],
      "metadata": {
        "id": "RJMdd0B0ifxc",
        "colab": {
          "base_uri": "https://localhost:8080/"
        },
        "outputId": "47744dd2-d8c8-4651-f951-e674491e7f39"
      },
      "execution_count": 47,
      "outputs": [
        {
          "output_type": "execute_result",
          "data": {
            "text/plain": [
              "3"
            ]
          },
          "metadata": {},
          "execution_count": 47
        }
      ]
    },
    {
      "cell_type": "code",
      "source": [],
      "metadata": {
        "id": "VigmnxRhifu8"
      },
      "execution_count": null,
      "outputs": []
    },
    {
      "cell_type": "code",
      "source": [],
      "metadata": {
        "id": "5GTNCrPFinVe"
      },
      "execution_count": null,
      "outputs": []
    },
    {
      "cell_type": "code",
      "source": [],
      "metadata": {
        "id": "bmVAotNRinTH"
      },
      "execution_count": null,
      "outputs": []
    },
    {
      "cell_type": "code",
      "source": [],
      "metadata": {
        "id": "EIomu9tMinQp"
      },
      "execution_count": null,
      "outputs": []
    },
    {
      "cell_type": "code",
      "source": [],
      "metadata": {
        "id": "rgswrVnDinOI"
      },
      "execution_count": null,
      "outputs": []
    }
  ]
}